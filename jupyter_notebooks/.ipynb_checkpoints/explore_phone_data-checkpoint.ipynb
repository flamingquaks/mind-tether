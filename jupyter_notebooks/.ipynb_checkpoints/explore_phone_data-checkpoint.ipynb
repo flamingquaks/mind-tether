{
 "cells": [
  {
   "cell_type": "markdown",
   "metadata": {},
   "source": [
    "This doc is for exploratory purposes to get to know the Smartphone DB.\n",
    "The database is SPARQL Hosted by http://dbpedia.org"
   ]
  },
  {
   "cell_type": "code",
   "execution_count": 3,
   "metadata": {},
   "outputs": [
    {
     "name": "stderr",
     "output_type": "stream",
     "text": [
      "UsageError: Line magic function `%status` not found.\n"
     ]
    }
   ],
   "source": [
    "%status"
   ]
  },
  {
   "cell_type": "code",
   "execution_count": null,
   "metadata": {},
   "outputs": [],
   "source": []
  }
 ],
 "metadata": {
  "interpreter": {
   "hash": "cf0e4b1f9af04a8e260c4c4b832dfc6eb7d2f7d8d19aa627f290145eaf683bfc"
  },
  "kernelspec": {
   "display_name": "Python 3 (ipykernel)",
   "language": "python",
   "name": "python3"
  },
  "language_info": {
   "codemirror_mode": {
    "name": "ipython",
    "version": 3
   },
   "file_extension": ".py",
   "mimetype": "text/x-python",
   "name": "python",
   "nbconvert_exporter": "python",
   "pygments_lexer": "ipython3",
   "version": "3.8.6"
  }
 },
 "nbformat": 4,
 "nbformat_minor": 2
}
