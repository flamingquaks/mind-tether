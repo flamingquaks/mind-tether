{
 "cells": [
  {
   "cell_type": "markdown",
   "metadata": {},
   "source": [
    "# Explore Phone Data\n",
    "This doc is for exploratory purposes to get to know the Smartphone DB.\n",
    "The database is SPARQL Hosted by http://dbpedia.org"
   ]
  },
  {
   "cell_type": "code",
   "execution_count": 35,
   "metadata": {},
   "outputs": [
    {
     "data": {
      "text/html": [
       "<div class=\"krn-spql\"><div class=\"magic\">Endpoint set to: https://live.dbpedia.org/sparql</div></div>"
      ],
      "text/plain": [
       "Endpoint set to: https://live.dbpedia.org/sparql\n"
      ]
     },
     "metadata": {},
     "output_type": "display_data"
    },
    {
     "data": {
      "text/html": [
       "<div class=\"krn-spql\"><table><tr class=hdr><th>Context</th></tr></table><div class=\"tinfo\">Total: 0, Shown: 0</div></div>"
      ]
     },
     "metadata": {},
     "output_type": "display_data"
    }
   ],
   "source": [
    "%endpoint https://live.dbpedia.org/sparql\n",
    "\n",
    "select ?Context\n",
    "where {[] a ?Concept FILTER regex(?Context,\"PHONE\", \"i\") } "
   ]
  },
  {
   "cell_type": "code",
   "execution_count": null,
   "metadata": {},
   "outputs": [],
   "source": [
    "     define input:ifp \"IFP_OFF\"  select ?s1 as ?c1, (bif:search_excerpt (bif:vector ('iphone'), ?o1)) as ?c2, ?sc, ?rank, ?g where {{{ select ?s1, (?sc * 3e-1) as ?sc, ?o1, (sql:rnk_scale (<LONG::IRI_RANK> (?s1))) as ?rank, ?g where  \n",
    "  { \n",
    "    quad map virtrdf:DefaultQuadMap \n",
    "    { \n",
    "      graph ?g \n",
    "      { \n",
    "         ?s1 ?s1textp ?o1 .\n",
    "        ?o1 bif:contains  '\"iphone\"'  option (score ?sc)  .\n",
    "        \n",
    "      }\n",
    "     }\n",
    "    \n",
    "  }\n",
    " order by desc (?sc * 3e-1 + sql:rnk_scale (<LONG::IRI_RANK> (?s1)))  limit 50  offset 0 }}} "
   ]
  },
  {
   "cell_type": "code",
   "execution_count": 38,
   "metadata": {},
   "outputs": [
    {
     "data": {
      "text/html": [
       "<div class=\"krn-spql\"><div class=\"magic\">Endpoint set to: https://live.dbpedia.org/sparql</div></div>"
      ],
      "text/plain": [
       "Endpoint set to: https://live.dbpedia.org/sparql\n"
      ]
     },
     "metadata": {},
     "output_type": "display_data"
    },
    {
     "data": {
      "text/html": [
       "<div class=\"krn-spql\"><div class=\"krn-error\"><span class=\"title\">Error:</span> SPARQL error: QueryBadFormed: a bad request has been sent to the endpoint, probably the sparql query is bad formed. <br/><br/>Response:<br/>b&quot;Virtuoso 37000 Error SP030: SPARQL compiler, line 1: syntax error at 'is' before 'dbo:device'\\n\\nSPARQL query:\\nSELECT * WHERE { ?entity is dbo:device }&quot;</div></div>"
      ],
      "text/plain": [
       "Error: SPARQL error: QueryBadFormed: a bad request has been sent to the endpoint, probably the sparql query is bad formed. \n",
       "\n",
       "Response:\n",
       "b\"Virtuoso 37000 Error SP030: SPARQL compiler, line 1: syntax error at 'is' before 'dbo:device'\\n\\nSPARQL query:\\nSELECT * WHERE { ?entity is dbo:device }\""
      ]
     },
     "metadata": {},
     "output_type": "display_data"
    }
   ],
   "source": [
    "%endpoint https://live.dbpedia.org/sparql\n",
    "\n",
    "SELECT * WHERE { ?entity is dbo:device }\n"
   ]
  }
 ],
 "metadata": {
  "interpreter": {
   "hash": "3e166d3a12630719ab9d9c712b047e2b8ddc4502fd78235aef0b218717ee575a"
  },
  "kernelspec": {
   "display_name": "SPARQL",
   "language": "sparql",
   "name": "sparql"
  },
  "language_info": {
   "codemirror_mode": {
    "name": "sparql"
   },
   "mimetype": "application/sparql-query",
   "name": "sparql",
   "pygments_lexer": "sparql-nb"
  }
 },
 "nbformat": 4,
 "nbformat_minor": 2
}
